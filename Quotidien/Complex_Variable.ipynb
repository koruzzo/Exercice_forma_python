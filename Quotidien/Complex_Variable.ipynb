{
 "cells": [
  {
   "cell_type": "markdown",
   "metadata": {},
   "source": [
    "# Complex variable"
   ]
  },
  {
   "cell_type": "markdown",
   "metadata": {},
   "source": [
    "Create a list of numbers from one to tree hundred and seventy two"
   ]
  },
  {
   "cell_type": "code",
   "execution_count": 1,
   "metadata": {},
   "outputs": [
    {
     "name": "stdout",
     "output_type": "stream",
     "text": [
      "[1, 2, 3, 4, 5, 6, 7, 8, 9, 10, 11, 12, 13, 14, 15, 16, 17, 18, 19, 20, 21, 22, 23, 24, 25, 26, 27, 28, 29, 30, 31, 32, 33, 34, 35, 36, 37, 38, 39, 40, 41, 42, 43, 44, 45, 46, 47, 48, 49, 50, 51, 52, 53, 54, 55, 56, 57, 58, 59, 60, 61, 62, 63, 64, 65, 66, 67, 68, 69, 70, 71, 72, 73, 74, 75, 76, 77, 78, 79, 80, 81, 82, 83, 84, 85, 86, 87, 88, 89, 90, 91, 92, 93, 94, 95, 96, 97, 98, 99, 100, 101, 102, 103, 104, 105, 106, 107, 108, 109, 110, 111, 112, 113, 114, 115, 116, 117, 118, 119, 120, 121, 122, 123, 124, 125, 126, 127, 128, 129, 130, 131, 132, 133, 134, 135, 136, 137, 138, 139, 140, 141, 142, 143, 144, 145, 146, 147, 148, 149, 150, 151, 152, 153, 154, 155, 156, 157, 158, 159, 160, 161, 162, 163, 164, 165, 166, 167, 168, 169, 170, 171, 172, 173, 174, 175, 176, 177, 178, 179, 180, 181, 182, 183, 184, 185, 186, 187, 188, 189, 190, 191, 192, 193, 194, 195, 196, 197, 198, 199, 200, 201, 202, 203, 204, 205, 206, 207, 208, 209, 210, 211, 212, 213, 214, 215, 216, 217, 218, 219, 220, 221, 222, 223, 224, 225, 226, 227, 228, 229, 230, 231, 232, 233, 234, 235, 236, 237, 238, 239, 240, 241, 242, 243, 244, 245, 246, 247, 248, 249, 250, 251, 252, 253, 254, 255, 256, 257, 258, 259, 260, 261, 262, 263, 264, 265, 266, 267, 268, 269, 270, 271, 272, 273, 274, 275, 276, 277, 278, 279, 280, 281, 282, 283, 284, 285, 286, 287, 288, 289, 290, 291, 292, 293, 294, 295, 296, 297, 298, 299, 300, 301, 302, 303, 304, 305, 306, 307, 308, 309, 310, 311, 312, 313, 314, 315, 316, 317, 318, 319, 320, 321, 322, 323, 324, 325, 326, 327, 328, 329, 330, 331, 332, 333, 334, 335, 336, 337, 338, 339, 340, 341, 342, 343, 344, 345, 346, 347, 348, 349, 350, 351, 352, 353, 354, 355, 356, 357, 358, 359, 360, 361, 362, 363, 364, 365, 366, 367, 368, 369, 370, 371, 372]\n"
     ]
    }
   ],
   "source": [
    "nb_list = [i for i in range(1, 373)]\n",
    "print(nb_list)\n"
   ]
  },
  {
   "cell_type": "markdown",
   "metadata": {},
   "source": [
    "Create a list of string, containing the months January to December. Each month have to be duplicate 31 times.\n",
    "\n",
    "Expected result : ['January', 'January', 'January', 'January'.. 'December', 'December', 'December', 'December']"
   ]
  },
  {
   "cell_type": "code",
   "execution_count": 2,
   "metadata": {},
   "outputs": [
    {
     "name": "stdout",
     "output_type": "stream",
     "text": [
      "['January', 'January', 'January', 'January', 'January', 'January', 'January', 'January', 'January', 'January', 'January', 'January', 'January', 'January', 'January', 'January', 'January', 'January', 'January', 'January', 'January', 'January', 'January', 'January', 'January', 'January', 'January', 'January', 'January', 'January', 'January', 'February', 'February', 'February', 'February', 'February', 'February', 'February', 'February', 'February', 'February', 'February', 'February', 'February', 'February', 'February', 'February', 'February', 'February', 'February', 'February', 'February', 'February', 'February', 'February', 'February', 'February', 'February', 'February', 'February', 'February', 'February', 'March', 'March', 'March', 'March', 'March', 'March', 'March', 'March', 'March', 'March', 'March', 'March', 'March', 'March', 'March', 'March', 'March', 'March', 'March', 'March', 'March', 'March', 'March', 'March', 'March', 'March', 'March', 'March', 'March', 'March', 'March', 'April', 'April', 'April', 'April', 'April', 'April', 'April', 'April', 'April', 'April', 'April', 'April', 'April', 'April', 'April', 'April', 'April', 'April', 'April', 'April', 'April', 'April', 'April', 'April', 'April', 'April', 'April', 'April', 'April', 'April', 'April', 'May', 'May', 'May', 'May', 'May', 'May', 'May', 'May', 'May', 'May', 'May', 'May', 'May', 'May', 'May', 'May', 'May', 'May', 'May', 'May', 'May', 'May', 'May', 'May', 'May', 'May', 'May', 'May', 'May', 'May', 'May', 'June', 'June', 'June', 'June', 'June', 'June', 'June', 'June', 'June', 'June', 'June', 'June', 'June', 'June', 'June', 'June', 'June', 'June', 'June', 'June', 'June', 'June', 'June', 'June', 'June', 'June', 'June', 'June', 'June', 'June', 'June', 'July', 'July', 'July', 'July', 'July', 'July', 'July', 'July', 'July', 'July', 'July', 'July', 'July', 'July', 'July', 'July', 'July', 'July', 'July', 'July', 'July', 'July', 'July', 'July', 'July', 'July', 'July', 'July', 'July', 'July', 'July', 'August', 'August', 'August', 'August', 'August', 'August', 'August', 'August', 'August', 'August', 'August', 'August', 'August', 'August', 'August', 'August', 'August', 'August', 'August', 'August', 'August', 'August', 'August', 'August', 'August', 'August', 'August', 'August', 'August', 'August', 'August', 'September', 'September', 'September', 'September', 'September', 'September', 'September', 'September', 'September', 'September', 'September', 'September', 'September', 'September', 'September', 'September', 'September', 'September', 'September', 'September', 'September', 'September', 'September', 'September', 'September', 'September', 'September', 'September', 'September', 'September', 'September', 'October', 'October', 'October', 'October', 'October', 'October', 'October', 'October', 'October', 'October', 'October', 'October', 'October', 'October', 'October', 'October', 'October', 'October', 'October', 'October', 'October', 'October', 'October', 'October', 'October', 'October', 'October', 'October', 'October', 'October', 'October', 'November', 'November', 'November', 'November', 'November', 'November', 'November', 'November', 'November', 'November', 'November', 'November', 'November', 'November', 'November', 'November', 'November', 'November', 'November', 'November', 'November', 'November', 'November', 'November', 'November', 'November', 'November', 'November', 'November', 'November', 'November', 'December', 'December', 'December', 'December', 'December', 'December', 'December', 'December', 'December', 'December', 'December', 'December', 'December', 'December', 'December', 'December', 'December', 'December', 'December', 'December', 'December', 'December', 'December', 'December', 'December', 'December', 'December', 'December', 'December', 'December', 'December']\n"
     ]
    }
   ],
   "source": [
    "months = ['January', 'February', 'March', 'April', 'May', 'June', 'July', 'August', 'September', 'October', 'November', 'December']\n",
    "months_duplicated = [month for month in months for _ in range(31)]\n",
    "print(months_duplicated)\n"
   ]
  },
  {
   "cell_type": "markdown",
   "metadata": {},
   "source": [
    "Compute the length of the list.\n",
    "\n",
    "The expected result is 372"
   ]
  },
  {
   "cell_type": "code",
   "execution_count": 3,
   "metadata": {},
   "outputs": [
    {
     "name": "stdout",
     "output_type": "stream",
     "text": [
      "372\n"
     ]
    }
   ],
   "source": [
    "months = ['January', 'February', 'March', 'April', 'May', 'June', 'July', 'August', 'September', 'October', 'November', 'December']\n",
    "\n",
    "months_duplicated = [month for month in months for _ in range(31)]\n",
    "print(len(months_duplicated))"
   ]
  },
  {
   "cell_type": "markdown",
   "metadata": {},
   "source": [
    "Create a list of integer, containing 372 times the number 2020"
   ]
  },
  {
   "cell_type": "code",
   "execution_count": 13,
   "metadata": {},
   "outputs": [
    {
     "name": "stdout",
     "output_type": "stream",
     "text": [
      "[2020, 2020, 2020, 2020, 2020, 2020, 2020, 2020, 2020, 2020, 2020, 2020, 2020, 2020, 2020, 2020, 2020, 2020, 2020, 2020, 2020, 2020, 2020, 2020, 2020, 2020, 2020, 2020, 2020, 2020, 2020, 2020, 2020, 2020, 2020, 2020, 2020, 2020, 2020, 2020, 2020, 2020, 2020, 2020, 2020, 2020, 2020, 2020, 2020, 2020, 2020, 2020, 2020, 2020, 2020, 2020, 2020, 2020, 2020, 2020, 2020, 2020, 2020, 2020, 2020, 2020, 2020, 2020, 2020, 2020, 2020, 2020, 2020, 2020, 2020, 2020, 2020, 2020, 2020, 2020, 2020, 2020, 2020, 2020, 2020, 2020, 2020, 2020, 2020, 2020, 2020, 2020, 2020, 2020, 2020, 2020, 2020, 2020, 2020, 2020, 2020, 2020, 2020, 2020, 2020, 2020, 2020, 2020, 2020, 2020, 2020, 2020, 2020, 2020, 2020, 2020, 2020, 2020, 2020, 2020, 2020, 2020, 2020, 2020, 2020, 2020, 2020, 2020, 2020, 2020, 2020, 2020, 2020, 2020, 2020, 2020, 2020, 2020, 2020, 2020, 2020, 2020, 2020, 2020, 2020, 2020, 2020, 2020, 2020, 2020, 2020, 2020, 2020, 2020, 2020, 2020, 2020, 2020, 2020, 2020, 2020, 2020, 2020, 2020, 2020, 2020, 2020, 2020, 2020, 2020, 2020, 2020, 2020, 2020, 2020, 2020, 2020, 2020, 2020, 2020, 2020, 2020, 2020, 2020, 2020, 2020, 2020, 2020, 2020, 2020, 2020, 2020, 2020, 2020, 2020, 2020, 2020, 2020, 2020, 2020, 2020, 2020, 2020, 2020, 2020, 2020, 2020, 2020, 2020, 2020, 2020, 2020, 2020, 2020, 2020, 2020, 2020, 2020, 2020, 2020, 2020, 2020, 2020, 2020, 2020, 2020, 2020, 2020, 2020, 2020, 2020, 2020, 2020, 2020, 2020, 2020, 2020, 2020, 2020, 2020, 2020, 2020, 2020, 2020, 2020, 2020, 2020, 2020, 2020, 2020, 2020, 2020, 2020, 2020, 2020, 2020, 2020, 2020, 2020, 2020, 2020, 2020, 2020, 2020, 2020, 2020, 2020, 2020, 2020, 2020, 2020, 2020, 2020, 2020, 2020, 2020, 2020, 2020, 2020, 2020, 2020, 2020, 2020, 2020, 2020, 2020, 2020, 2020, 2020, 2020, 2020, 2020, 2020, 2020, 2020, 2020, 2020, 2020, 2020, 2020, 2020, 2020, 2020, 2020, 2020, 2020, 2020, 2020, 2020, 2020, 2020, 2020, 2020, 2020, 2020, 2020, 2020, 2020, 2020, 2020, 2020, 2020, 2020, 2020, 2020, 2020, 2020, 2020, 2020, 2020, 2020, 2020, 2020, 2020, 2020, 2020, 2020, 2020, 2020, 2020, 2020, 2020, 2020, 2020, 2020, 2020, 2020, 2020, 2020, 2020, 2020, 2020, 2020, 2020, 2020, 2020, 2020, 2020, 2020, 2020, 2020, 2020, 2020, 2020, 2020, 2020, 2020, 2020, 2020, 2020, 2020, 2020]\n",
      "372\n"
     ]
    }
   ],
   "source": [
    "list_int = [2020] * 372\n",
    "print(list_int)\n",
    "print(len(list_int))"
   ]
  },
  {
   "cell_type": "markdown",
   "metadata": {},
   "source": [
    "Create a list of tuple. Each tuple have to contains the day of the year and the number tree hundred and seventy two.\n",
    "\n",
    "The expected result is : [(1, 372), (2, 372)... (372, 372)]"
   ]
  },
  {
   "cell_type": "code",
   "execution_count": 4,
   "metadata": {},
   "outputs": [
    {
     "name": "stdout",
     "output_type": "stream",
     "text": [
      "[(1, 372), (2, 372), (3, 372), (4, 372), (5, 372), (6, 372), (7, 372), (8, 372), (9, 372), (10, 372), (11, 372), (12, 372), (13, 372), (14, 372), (15, 372), (16, 372), (17, 372), (18, 372), (19, 372), (20, 372), (21, 372), (22, 372), (23, 372), (24, 372), (25, 372), (26, 372), (27, 372), (28, 372), (29, 372), (30, 372), (31, 372), (32, 372), (33, 372), (34, 372), (35, 372), (36, 372), (37, 372), (38, 372), (39, 372), (40, 372), (41, 372), (42, 372), (43, 372), (44, 372), (45, 372), (46, 372), (47, 372), (48, 372), (49, 372), (50, 372), (51, 372), (52, 372), (53, 372), (54, 372), (55, 372), (56, 372), (57, 372), (58, 372), (59, 372), (60, 372), (61, 372), (62, 372), (63, 372), (64, 372), (65, 372), (66, 372), (67, 372), (68, 372), (69, 372), (70, 372), (71, 372), (72, 372), (73, 372), (74, 372), (75, 372), (76, 372), (77, 372), (78, 372), (79, 372), (80, 372), (81, 372), (82, 372), (83, 372), (84, 372), (85, 372), (86, 372), (87, 372), (88, 372), (89, 372), (90, 372), (91, 372), (92, 372), (93, 372), (94, 372), (95, 372), (96, 372), (97, 372), (98, 372), (99, 372), (100, 372), (101, 372), (102, 372), (103, 372), (104, 372), (105, 372), (106, 372), (107, 372), (108, 372), (109, 372), (110, 372), (111, 372), (112, 372), (113, 372), (114, 372), (115, 372), (116, 372), (117, 372), (118, 372), (119, 372), (120, 372), (121, 372), (122, 372), (123, 372), (124, 372), (125, 372), (126, 372), (127, 372), (128, 372), (129, 372), (130, 372), (131, 372), (132, 372), (133, 372), (134, 372), (135, 372), (136, 372), (137, 372), (138, 372), (139, 372), (140, 372), (141, 372), (142, 372), (143, 372), (144, 372), (145, 372), (146, 372), (147, 372), (148, 372), (149, 372), (150, 372), (151, 372), (152, 372), (153, 372), (154, 372), (155, 372), (156, 372), (157, 372), (158, 372), (159, 372), (160, 372), (161, 372), (162, 372), (163, 372), (164, 372), (165, 372), (166, 372), (167, 372), (168, 372), (169, 372), (170, 372), (171, 372), (172, 372), (173, 372), (174, 372), (175, 372), (176, 372), (177, 372), (178, 372), (179, 372), (180, 372), (181, 372), (182, 372), (183, 372), (184, 372), (185, 372), (186, 372), (187, 372), (188, 372), (189, 372), (190, 372), (191, 372), (192, 372), (193, 372), (194, 372), (195, 372), (196, 372), (197, 372), (198, 372), (199, 372), (200, 372), (201, 372), (202, 372), (203, 372), (204, 372), (205, 372), (206, 372), (207, 372), (208, 372), (209, 372), (210, 372), (211, 372), (212, 372), (213, 372), (214, 372), (215, 372), (216, 372), (217, 372), (218, 372), (219, 372), (220, 372), (221, 372), (222, 372), (223, 372), (224, 372), (225, 372), (226, 372), (227, 372), (228, 372), (229, 372), (230, 372), (231, 372), (232, 372), (233, 372), (234, 372), (235, 372), (236, 372), (237, 372), (238, 372), (239, 372), (240, 372), (241, 372), (242, 372), (243, 372), (244, 372), (245, 372), (246, 372), (247, 372), (248, 372), (249, 372), (250, 372), (251, 372), (252, 372), (253, 372), (254, 372), (255, 372), (256, 372), (257, 372), (258, 372), (259, 372), (260, 372), (261, 372), (262, 372), (263, 372), (264, 372), (265, 372), (266, 372), (267, 372), (268, 372), (269, 372), (270, 372), (271, 372), (272, 372), (273, 372), (274, 372), (275, 372), (276, 372), (277, 372), (278, 372), (279, 372), (280, 372), (281, 372), (282, 372), (283, 372), (284, 372), (285, 372), (286, 372), (287, 372), (288, 372), (289, 372), (290, 372), (291, 372), (292, 372), (293, 372), (294, 372), (295, 372), (296, 372), (297, 372), (298, 372), (299, 372), (300, 372), (301, 372), (302, 372), (303, 372), (304, 372), (305, 372), (306, 372), (307, 372), (308, 372), (309, 372), (310, 372), (311, 372), (312, 372), (313, 372), (314, 372), (315, 372), (316, 372), (317, 372), (318, 372), (319, 372), (320, 372), (321, 372), (322, 372), (323, 372), (324, 372), (325, 372), (326, 372), (327, 372), (328, 372), (329, 372), (330, 372), (331, 372), (332, 372), (333, 372), (334, 372), (335, 372), (336, 372), (337, 372), (338, 372), (339, 372), (340, 372), (341, 372), (342, 372), (343, 372), (344, 372), (345, 372), (346, 372), (347, 372), (348, 372), (349, 372), (350, 372), (351, 372), (352, 372), (353, 372), (354, 372), (355, 372), (356, 372), (357, 372), (358, 372), (359, 372), (360, 372), (361, 372), (362, 372), (363, 372), (364, 372), (365, 372), (366, 372), (367, 372), (368, 372), (369, 372), (370, 372), (371, 372), (372, 372)]\n"
     ]
    }
   ],
   "source": [
    "list_1 = [(day, 372) for day in range(1, 373)]\n",
    "print(list_1)"
   ]
  },
  {
   "cell_type": "markdown",
   "metadata": {},
   "source": [
    "Use a comprehension list, to divide each first element of the tuple by the second one.\n",
    "Each result have to be rounded by 3 digits.\n",
    "The excepted result is : [0.003, ...]"
   ]
  },
  {
   "cell_type": "code",
   "execution_count": 6,
   "metadata": {},
   "outputs": [
    {
     "name": "stdout",
     "output_type": "stream",
     "text": [
      "[0.003, 0.005, 0.008, 0.011, 0.013, 0.016, 0.019, 0.022, 0.024, 0.027, 0.03, 0.032, 0.035, 0.038, 0.04, 0.043, 0.046, 0.048, 0.051, 0.054, 0.056, 0.059, 0.062, 0.065, 0.067, 0.07, 0.073, 0.075, 0.078, 0.081, 0.083, 0.086, 0.089, 0.091, 0.094, 0.097, 0.099, 0.102, 0.105, 0.108, 0.11, 0.113, 0.116, 0.118, 0.121, 0.124, 0.126, 0.129, 0.132, 0.134, 0.137, 0.14, 0.142, 0.145, 0.148, 0.151, 0.153, 0.156, 0.159, 0.161, 0.164, 0.167, 0.169, 0.172, 0.175, 0.177, 0.18, 0.183, 0.185, 0.188, 0.191, 0.194, 0.196, 0.199, 0.202, 0.204, 0.207, 0.21, 0.212, 0.215, 0.218, 0.22, 0.223, 0.226, 0.228, 0.231, 0.234, 0.237, 0.239, 0.242, 0.245, 0.247, 0.25, 0.253, 0.255, 0.258, 0.261, 0.263, 0.266, 0.269, 0.272, 0.274, 0.277, 0.28, 0.282, 0.285, 0.288, 0.29, 0.293, 0.296, 0.298, 0.301, 0.304, 0.306, 0.309, 0.312, 0.315, 0.317, 0.32, 0.323, 0.325, 0.328, 0.331, 0.333, 0.336, 0.339, 0.341, 0.344, 0.347, 0.349, 0.352, 0.355, 0.358, 0.36, 0.363, 0.366, 0.368, 0.371, 0.374, 0.376, 0.379, 0.382, 0.384, 0.387, 0.39, 0.392, 0.395, 0.398, 0.401, 0.403, 0.406, 0.409, 0.411, 0.414, 0.417, 0.419, 0.422, 0.425, 0.427, 0.43, 0.433, 0.435, 0.438, 0.441, 0.444, 0.446, 0.449, 0.452, 0.454, 0.457, 0.46, 0.462, 0.465, 0.468, 0.47, 0.473, 0.476, 0.478, 0.481, 0.484, 0.487, 0.489, 0.492, 0.495, 0.497, 0.5, 0.503, 0.505, 0.508, 0.511, 0.513, 0.516, 0.519, 0.522, 0.524, 0.527, 0.53, 0.532, 0.535, 0.538, 0.54, 0.543, 0.546, 0.548, 0.551, 0.554, 0.556, 0.559, 0.562, 0.565, 0.567, 0.57, 0.573, 0.575, 0.578, 0.581, 0.583, 0.586, 0.589, 0.591, 0.594, 0.597, 0.599, 0.602, 0.605, 0.608, 0.61, 0.613, 0.616, 0.618, 0.621, 0.624, 0.626, 0.629, 0.632, 0.634, 0.637, 0.64, 0.642, 0.645, 0.648, 0.651, 0.653, 0.656, 0.659, 0.661, 0.664, 0.667, 0.669, 0.672, 0.675, 0.677, 0.68, 0.683, 0.685, 0.688, 0.691, 0.694, 0.696, 0.699, 0.702, 0.704, 0.707, 0.71, 0.712, 0.715, 0.718, 0.72, 0.723, 0.726, 0.728, 0.731, 0.734, 0.737, 0.739, 0.742, 0.745, 0.747, 0.75, 0.753, 0.755, 0.758, 0.761, 0.763, 0.766, 0.769, 0.772, 0.774, 0.777, 0.78, 0.782, 0.785, 0.788, 0.79, 0.793, 0.796, 0.798, 0.801, 0.804, 0.806, 0.809, 0.812, 0.815, 0.817, 0.82, 0.823, 0.825, 0.828, 0.831, 0.833, 0.836, 0.839, 0.841, 0.844, 0.847, 0.849, 0.852, 0.855, 0.858, 0.86, 0.863, 0.866, 0.868, 0.871, 0.874, 0.876, 0.879, 0.882, 0.884, 0.887, 0.89, 0.892, 0.895, 0.898, 0.901, 0.903, 0.906, 0.909, 0.911, 0.914, 0.917, 0.919, 0.922, 0.925, 0.927, 0.93, 0.933, 0.935, 0.938, 0.941, 0.944, 0.946, 0.949, 0.952, 0.954, 0.957, 0.96, 0.962, 0.965, 0.968, 0.97, 0.973, 0.976, 0.978, 0.981, 0.984, 0.987, 0.989, 0.992, 0.995, 0.997, 1.0]\n"
     ]
    }
   ],
   "source": [
    "list_2 = [(day / 372) for day in range(1, 373)]\n",
    "results = [round(nb, 3) for nb in list_2]\n",
    "print(results)"
   ]
  },
  {
   "cell_type": "markdown",
   "metadata": {},
   "source": [
    "Create a dictionary, containing the following keys ['day', 'month', 'year', 'elapsed_time'].\n",
    "\n",
    "The values of that dictionnary will be the lists previously created.\n",
    "\n",
    "\n",
    "The expected result is : {'day': [1, 2...], 'month': ['January', 'January'...'December'], 'year': [2020, 2020..], 'elapsed_time': [0.003, ...100]}"
   ]
  },
  {
   "cell_type": "code",
   "execution_count": 7,
   "metadata": {},
   "outputs": [
    {
     "name": "stdout",
     "output_type": "stream",
     "text": [
      "{'day': [1, 2, 3, 4, 5, 6, 7, 8, 9, 10, 11, 12, 13, 14, 15, 16, 17, 18, 19, 20, 21, 22, 23, 24, 25, 26, 27, 28, 29, 30, 31, 32, 33, 34, 35, 36, 37, 38, 39, 40, 41, 42, 43, 44, 45, 46, 47, 48, 49, 50, 51, 52, 53, 54, 55, 56, 57, 58, 59, 60, 61, 62, 63, 64, 65, 66, 67, 68, 69, 70, 71, 72, 73, 74, 75, 76, 77, 78, 79, 80, 81, 82, 83, 84, 85, 86, 87, 88, 89, 90, 91, 92, 93, 94, 95, 96, 97, 98, 99, 100, 101, 102, 103, 104, 105, 106, 107, 108, 109, 110, 111, 112, 113, 114, 115, 116, 117, 118, 119, 120, 121, 122, 123, 124, 125, 126, 127, 128, 129, 130, 131, 132, 133, 134, 135, 136, 137, 138, 139, 140, 141, 142, 143, 144, 145, 146, 147, 148, 149, 150, 151, 152, 153, 154, 155, 156, 157, 158, 159, 160, 161, 162, 163, 164, 165, 166, 167, 168, 169, 170, 171, 172, 173, 174, 175, 176, 177, 178, 179, 180, 181, 182, 183, 184, 185, 186, 187, 188, 189, 190, 191, 192, 193, 194, 195, 196, 197, 198, 199, 200, 201, 202, 203, 204, 205, 206, 207, 208, 209, 210, 211, 212, 213, 214, 215, 216, 217, 218, 219, 220, 221, 222, 223, 224, 225, 226, 227, 228, 229, 230, 231, 232, 233, 234, 235, 236, 237, 238, 239, 240, 241, 242, 243, 244, 245, 246, 247, 248, 249, 250, 251, 252, 253, 254, 255, 256, 257, 258, 259, 260, 261, 262, 263, 264, 265, 266, 267, 268, 269, 270, 271, 272, 273, 274, 275, 276, 277, 278, 279, 280, 281, 282, 283, 284, 285, 286, 287, 288, 289, 290, 291, 292, 293, 294, 295, 296, 297, 298, 299, 300, 301, 302, 303, 304, 305, 306, 307, 308, 309, 310, 311, 312, 313, 314, 315, 316, 317, 318, 319, 320, 321, 322, 323, 324, 325, 326, 327, 328, 329, 330, 331, 332, 333, 334, 335, 336, 337, 338, 339, 340, 341, 342, 343, 344, 345, 346, 347, 348, 349, 350, 351, 352, 353, 354, 355, 356, 357, 358, 359, 360, 361, 362, 363, 364, 365, 366, 367, 368, 369, 370, 371, 372], 'month': ['January', 'January', 'January', 'January', 'January', 'January', 'January', 'January', 'January', 'January', 'January', 'January', 'January', 'January', 'January', 'January', 'January', 'January', 'January', 'January', 'January', 'January', 'January', 'January', 'January', 'January', 'January', 'January', 'January', 'January', 'January', 'February', 'February', 'February', 'February', 'February', 'February', 'February', 'February', 'February', 'February', 'February', 'February', 'February', 'February', 'February', 'February', 'February', 'February', 'February', 'February', 'February', 'February', 'February', 'February', 'February', 'February', 'February', 'February', 'February', 'February', 'February', 'March', 'March', 'March', 'March', 'March', 'March', 'March', 'March', 'March', 'March', 'March', 'March', 'March', 'March', 'March', 'March', 'March', 'March', 'March', 'March', 'March', 'March', 'March', 'March', 'March', 'March', 'March', 'March', 'March', 'March', 'March', 'April', 'April', 'April', 'April', 'April', 'April', 'April', 'April', 'April', 'April', 'April', 'April', 'April', 'April', 'April', 'April', 'April', 'April', 'April', 'April', 'April', 'April', 'April', 'April', 'April', 'April', 'April', 'April', 'April', 'April', 'April', 'May', 'May', 'May', 'May', 'May', 'May', 'May', 'May', 'May', 'May', 'May', 'May', 'May', 'May', 'May', 'May', 'May', 'May', 'May', 'May', 'May', 'May', 'May', 'May', 'May', 'May', 'May', 'May', 'May', 'May', 'May', 'June', 'June', 'June', 'June', 'June', 'June', 'June', 'June', 'June', 'June', 'June', 'June', 'June', 'June', 'June', 'June', 'June', 'June', 'June', 'June', 'June', 'June', 'June', 'June', 'June', 'June', 'June', 'June', 'June', 'June', 'June', 'July', 'July', 'July', 'July', 'July', 'July', 'July', 'July', 'July', 'July', 'July', 'July', 'July', 'July', 'July', 'July', 'July', 'July', 'July', 'July', 'July', 'July', 'July', 'July', 'July', 'July', 'July', 'July', 'July', 'July', 'July', 'August', 'August', 'August', 'August', 'August', 'August', 'August', 'August', 'August', 'August', 'August', 'August', 'August', 'August', 'August', 'August', 'August', 'August', 'August', 'August', 'August', 'August', 'August', 'August', 'August', 'August', 'August', 'August', 'August', 'August', 'August', 'September', 'September', 'September', 'September', 'September', 'September', 'September', 'September', 'September', 'September', 'September', 'September', 'September', 'September', 'September', 'September', 'September', 'September', 'September', 'September', 'September', 'September', 'September', 'September', 'September', 'September', 'September', 'September', 'September', 'September', 'September', 'October', 'October', 'October', 'October', 'October', 'October', 'October', 'October', 'October', 'October', 'October', 'October', 'October', 'October', 'October', 'October', 'October', 'October', 'October', 'October', 'October', 'October', 'October', 'October', 'October', 'October', 'October', 'October', 'October', 'October', 'October', 'November', 'November', 'November', 'November', 'November', 'November', 'November', 'November', 'November', 'November', 'November', 'November', 'November', 'November', 'November', 'November', 'November', 'November', 'November', 'November', 'November', 'November', 'November', 'November', 'November', 'November', 'November', 'November', 'November', 'November', 'November', 'December', 'December', 'December', 'December', 'December', 'December', 'December', 'December', 'December', 'December', 'December', 'December', 'December', 'December', 'December', 'December', 'December', 'December', 'December', 'December', 'December', 'December', 'December', 'December', 'December', 'December', 'December', 'December', 'December', 'December', 'December'], 'year': [2020, 2020, 2020, 2020, 2020, 2020, 2020, 2020, 2020, 2020, 2020, 2020, 2020, 2020, 2020, 2020, 2020, 2020, 2020, 2020, 2020, 2020, 2020, 2020, 2020, 2020, 2020, 2020, 2020, 2020, 2020, 2020, 2020, 2020, 2020, 2020, 2020, 2020, 2020, 2020, 2020, 2020, 2020, 2020, 2020, 2020, 2020, 2020, 2020, 2020, 2020, 2020, 2020, 2020, 2020, 2020, 2020, 2020, 2020, 2020, 2020, 2020, 2020, 2020, 2020, 2020, 2020, 2020, 2020, 2020, 2020, 2020, 2020, 2020, 2020, 2020, 2020, 2020, 2020, 2020, 2020, 2020, 2020, 2020, 2020, 2020, 2020, 2020, 2020, 2020, 2020, 2020, 2020, 2020, 2020, 2020, 2020, 2020, 2020, 2020, 2020, 2020, 2020, 2020, 2020, 2020, 2020, 2020, 2020, 2020, 2020, 2020, 2020, 2020, 2020, 2020, 2020, 2020, 2020, 2020, 2020, 2020, 2020, 2020, 2020, 2020, 2020, 2020, 2020, 2020, 2020, 2020, 2020, 2020, 2020, 2020, 2020, 2020, 2020, 2020, 2020, 2020, 2020, 2020, 2020, 2020, 2020, 2020, 2020, 2020, 2020, 2020, 2020, 2020, 2020, 2020, 2020, 2020, 2020, 2020, 2020, 2020, 2020, 2020, 2020, 2020, 2020, 2020, 2020, 2020, 2020, 2020, 2020, 2020, 2020, 2020, 2020, 2020, 2020, 2020, 2020, 2020, 2020, 2020, 2020, 2020, 2020, 2020, 2020, 2020, 2020, 2020, 2020, 2020, 2020, 2020, 2020, 2020, 2020, 2020, 2020, 2020, 2020, 2020, 2020, 2020, 2020, 2020, 2020, 2020, 2020, 2020, 2020, 2020, 2020, 2020, 2020, 2020, 2020, 2020, 2020, 2020, 2020, 2020, 2020, 2020, 2020, 2020, 2020, 2020, 2020, 2020, 2020, 2020, 2020, 2020, 2020, 2020, 2020, 2020, 2020, 2020, 2020, 2020, 2020, 2020, 2020, 2020, 2020, 2020, 2020, 2020, 2020, 2020, 2020, 2020, 2020, 2020, 2020, 2020, 2020, 2020, 2020, 2020, 2020, 2020, 2020, 2020, 2020, 2020, 2020, 2020, 2020, 2020, 2020, 2020, 2020, 2020, 2020, 2020, 2020, 2020, 2020, 2020, 2020, 2020, 2020, 2020, 2020, 2020, 2020, 2020, 2020, 2020, 2020, 2020, 2020, 2020, 2020, 2020, 2020, 2020, 2020, 2020, 2020, 2020, 2020, 2020, 2020, 2020, 2020, 2020, 2020, 2020, 2020, 2020, 2020, 2020, 2020, 2020, 2020, 2020, 2020, 2020, 2020, 2020, 2020, 2020, 2020, 2020, 2020, 2020, 2020, 2020, 2020, 2020, 2020, 2020, 2020, 2020, 2020, 2020, 2020, 2020, 2020, 2020, 2020, 2020, 2020, 2020, 2020, 2020, 2020, 2020, 2020, 2020, 2020, 2020, 2020, 2020, 2020, 2020, 2020, 2020, 2020, 2020, 2020, 2020, 2020, 2020, 2020, 2020], 'elapsed_time': [0.003, 0.005, 0.008, 0.011, 0.013, 0.016, 0.019, 0.022, 0.024, 0.027, 0.03, 0.032, 0.035, 0.038, 0.04, 0.043, 0.046, 0.048, 0.051, 0.054, 0.056, 0.059, 0.062, 0.065, 0.067, 0.07, 0.073, 0.075, 0.078, 0.081, 0.083, 0.086, 0.089, 0.091, 0.094, 0.097, 0.099, 0.102, 0.105, 0.108, 0.11, 0.113, 0.116, 0.118, 0.121, 0.124, 0.126, 0.129, 0.132, 0.134, 0.137, 0.14, 0.142, 0.145, 0.148, 0.151, 0.153, 0.156, 0.159, 0.161, 0.164, 0.167, 0.169, 0.172, 0.175, 0.177, 0.18, 0.183, 0.185, 0.188, 0.191, 0.194, 0.196, 0.199, 0.202, 0.204, 0.207, 0.21, 0.212, 0.215, 0.218, 0.22, 0.223, 0.226, 0.228, 0.231, 0.234, 0.237, 0.239, 0.242, 0.245, 0.247, 0.25, 0.253, 0.255, 0.258, 0.261, 0.263, 0.266, 0.269, 0.272, 0.274, 0.277, 0.28, 0.282, 0.285, 0.288, 0.29, 0.293, 0.296, 0.298, 0.301, 0.304, 0.306, 0.309, 0.312, 0.315, 0.317, 0.32, 0.323, 0.325, 0.328, 0.331, 0.333, 0.336, 0.339, 0.341, 0.344, 0.347, 0.349, 0.352, 0.355, 0.358, 0.36, 0.363, 0.366, 0.368, 0.371, 0.374, 0.376, 0.379, 0.382, 0.384, 0.387, 0.39, 0.392, 0.395, 0.398, 0.401, 0.403, 0.406, 0.409, 0.411, 0.414, 0.417, 0.419, 0.422, 0.425, 0.427, 0.43, 0.433, 0.435, 0.438, 0.441, 0.444, 0.446, 0.449, 0.452, 0.454, 0.457, 0.46, 0.462, 0.465, 0.468, 0.47, 0.473, 0.476, 0.478, 0.481, 0.484, 0.487, 0.489, 0.492, 0.495, 0.497, 0.5, 0.503, 0.505, 0.508, 0.511, 0.513, 0.516, 0.519, 0.522, 0.524, 0.527, 0.53, 0.532, 0.535, 0.538, 0.54, 0.543, 0.546, 0.548, 0.551, 0.554, 0.556, 0.559, 0.562, 0.565, 0.567, 0.57, 0.573, 0.575, 0.578, 0.581, 0.583, 0.586, 0.589, 0.591, 0.594, 0.597, 0.599, 0.602, 0.605, 0.608, 0.61, 0.613, 0.616, 0.618, 0.621, 0.624, 0.626, 0.629, 0.632, 0.634, 0.637, 0.64, 0.642, 0.645, 0.648, 0.651, 0.653, 0.656, 0.659, 0.661, 0.664, 0.667, 0.669, 0.672, 0.675, 0.677, 0.68, 0.683, 0.685, 0.688, 0.691, 0.694, 0.696, 0.699, 0.702, 0.704, 0.707, 0.71, 0.712, 0.715, 0.718, 0.72, 0.723, 0.726, 0.728, 0.731, 0.734, 0.737, 0.739, 0.742, 0.745, 0.747, 0.75, 0.753, 0.755, 0.758, 0.761, 0.763, 0.766, 0.769, 0.772, 0.774, 0.777, 0.78, 0.782, 0.785, 0.788, 0.79, 0.793, 0.796, 0.798, 0.801, 0.804, 0.806, 0.809, 0.812, 0.815, 0.817, 0.82, 0.823, 0.825, 0.828, 0.831, 0.833, 0.836, 0.839, 0.841, 0.844, 0.847, 0.849, 0.852, 0.855, 0.858, 0.86, 0.863, 0.866, 0.868, 0.871, 0.874, 0.876, 0.879, 0.882, 0.884, 0.887, 0.89, 0.892, 0.895, 0.898, 0.901, 0.903, 0.906, 0.909, 0.911, 0.914, 0.917, 0.919, 0.922, 0.925, 0.927, 0.93, 0.933, 0.935, 0.938, 0.941, 0.944, 0.946, 0.949, 0.952, 0.954, 0.957, 0.96, 0.962, 0.965, 0.968, 0.97, 0.973, 0.976, 0.978, 0.981, 0.984, 0.987, 0.989, 0.992, 0.995, 0.997, 1.0]}\n"
     ]
    }
   ],
   "source": [
    "days = list(range(1, 373))\n",
    "months = ['January', 'February', 'March', 'April', 'May', 'June', 'July', 'August', 'September', 'October', 'November', 'December']\n",
    "years = [2020] * 372\n",
    "elapsed_time = [round(day / 372, 3) for day in range(1, 373)]\n",
    "\n",
    "dict = {\n",
    "    'day': days,\n",
    "    'month': [month for month in months for _ in range(31)],\n",
    "    'year': years,\n",
    "    'elapsed_time': elapsed_time\n",
    "}\n",
    "print(dict)\n",
    "\n"
   ]
  },
  {
   "cell_type": "markdown",
   "metadata": {},
   "source": [
    "Create two sets. One with all the days of the week (ex : Monday till Sunday). The other one with Monday till Wednesday."
   ]
  },
  {
   "cell_type": "code",
   "execution_count": 8,
   "metadata": {},
   "outputs": [
    {
     "name": "stdout",
     "output_type": "stream",
     "text": [
      "{'Sunday', 'Saturday', 'Wednesday', 'Tuesday', 'Monday', 'Friday', 'Thursday'}\n",
      "{'Wednesday', 'Tuesday', 'Monday'}\n"
     ]
    }
   ],
   "source": [
    "days = {'Monday', 'Tuesday', 'Wednesday', 'Thursday', 'Friday', 'Saturday', 'Sunday'}\n",
    "mon_wed = {'Monday', 'Tuesday', 'Wednesday'}\n",
    "\n",
    "print(days)\n",
    "print(mon_wed)\n"
   ]
  },
  {
   "cell_type": "markdown",
   "metadata": {},
   "source": [
    "Substract the first list by the second one.\n",
    "\n",
    "Expected result : {'Friday', 'Saturday', 'Sunday', 'Thursday'}"
   ]
  },
  {
   "cell_type": "code",
   "execution_count": 9,
   "metadata": {},
   "outputs": [
    {
     "name": "stdout",
     "output_type": "stream",
     "text": [
      "{'Sunday', 'Friday', 'Thursday', 'Saturday'}\n"
     ]
    }
   ],
   "source": [
    "days = {'Monday', 'Tuesday', 'Wednesday', 'Thursday', 'Friday', 'Saturday', 'Sunday'}\n",
    "mon_wed = {'Monday', 'Tuesday', 'Wednesday'}\n",
    "\n",
    "result = days - mon_wed\n",
    "\n",
    "print(result)"
   ]
  },
  {
   "cell_type": "markdown",
   "metadata": {},
   "source": [
    "Explain the difference between a list and a tuple."
   ]
  },
  {
   "cell_type": "markdown",
   "metadata": {},
   "source": [
    "The declaration () and [], and the tuple can't be change after they have been create"
   ]
  },
  {
   "cell_type": "markdown",
   "metadata": {},
   "source": [
    "Explain the difference between a list and a dictionary."
   ]
  },
  {
   "cell_type": "markdown",
   "metadata": {},
   "source": [
    "A dictionary is not ordered, the syntax is different {} and [], and dictionary have keys"
   ]
  },
  {
   "cell_type": "markdown",
   "metadata": {},
   "source": [
    "Explain the difference between a list and a set."
   ]
  },
  {
   "cell_type": "markdown",
   "metadata": {},
   "source": [
    "A set is not ordered, the syntax is different {} and [], and sets do not allow duplicate elements."
   ]
  }
 ],
 "metadata": {
  "kernelspec": {
   "display_name": "Python 3.8.10 64-bit (microsoft store)",
   "language": "python",
   "name": "python3"
  },
  "language_info": {
   "codemirror_mode": {
    "name": "ipython",
    "version": 3
   },
   "file_extension": ".py",
   "mimetype": "text/x-python",
   "name": "python",
   "nbconvert_exporter": "python",
   "pygments_lexer": "ipython3",
   "version": "3.12.1"
  },
  "orig_nbformat": 4,
  "vscode": {
   "interpreter": {
    "hash": "825c94aeb3011909476e5128882419f0b73939d2857b9ad1548e06fb43618312"
   }
  }
 },
 "nbformat": 4,
 "nbformat_minor": 2
}
