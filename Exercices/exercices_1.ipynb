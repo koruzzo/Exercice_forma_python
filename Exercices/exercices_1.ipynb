{
 "cells": [
  {
   "cell_type": "code",
   "execution_count": 1,
   "metadata": {},
   "outputs": [
    {
     "name": "stdout",
     "output_type": "stream",
     "text": [
      "C'est une consonne.\n"
     ]
    }
   ],
   "source": [
    "liste_voyelles = [\"a\", \"e\", \"i\", \"o\", \"u\", \"y\"]\n",
    "liste_consonnes = [\"b\", \"c\", \"d\", \"f\", \"g\", \"h\", \"j\", \"k\", \"l\", \"m\", \"n\", \"p\", \"q\", \"r\", \"s\", \"t\", \"v\", \"w\", \"x\", \"z\"]\n",
    "\n",
    "lettre_utilisateur = input(\"Donnez une lettre et je vous dirai si c'est une voyelle : \")\n",
    "\n",
    "match lettre_utilisateur:\n",
    "    case x if x in liste_voyelles:\n",
    "        print(\"C'est une voyelle.\")\n",
    "    case x if x in liste_consonnes:\n",
    "        print(\"C'est une consonne.\")\n",
    "    case _:\n",
    "        print(\"Ce n'est ni une voyelle ni une consonne.\")\n"
   ]
  }
 ],
 "metadata": {
  "kernelspec": {
   "display_name": "Python 3",
   "language": "python",
   "name": "python3"
  },
  "language_info": {
   "codemirror_mode": {
    "name": "ipython",
    "version": 3
   },
   "file_extension": ".py",
   "mimetype": "text/x-python",
   "name": "python",
   "nbconvert_exporter": "python",
   "pygments_lexer": "ipython3",
   "version": "3.12.1"
  }
 },
 "nbformat": 4,
 "nbformat_minor": 2
}
