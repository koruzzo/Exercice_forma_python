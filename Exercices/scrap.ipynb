{
 "cells": [
  {
   "cell_type": "markdown",
   "metadata": {},
   "source": [
    "Le web scrapping consiste à extraire des données provenant d'un site web\n",
    "\n",
    "\n",
    "Une base de donnée c'est un outils de stockage de donnée\n",
    "\n",
    "\n",
    "Un ETL, c'est un acronyme pour définir un flux de donnée\n",
    "\n",
    "\n",
    "Un test c'est un process de vérification et de validation d'un outils, d'un programme, de qualité d'information..."
   ]
  },
  {
   "cell_type": "code",
   "execution_count": null,
   "metadata": {},
   "outputs": [],
   "source": [
    "from urllib.request import urlopen\n",
    "from bs4 import BeautifulSoup\n",
    "import pandas as pd\n",
    "from datetime import datetime\n",
    "import sqlite3\n",
    "\n",
    "\n",
    "# Extraire de l'information\n",
    "data = urlopen('https://fr.wikipedia.org/wiki/Surnom_des_%C3%A9quipes_nationales_de_rugby_%C3%A0_XV')\n",
    "data = data.read()\n",
    "\n",
    "\n",
    "# Transformation d'information\n",
    "soup = BeautifulSoup(data)\n",
    "team_table = soup.find('table', {'class':'wikitable'})\n",
    "\n",
    "tds = soup.find_all('span', {'class':'nowrap'})\n",
    "\n",
    "\n",
    "flag_urls = []\n",
    "flag_titles = []\n",
    "countries = []\n",
    "\n",
    "for td in tds:\n",
    "    flag_url = td.find('a', {'class':'mw-file-description'})['href']\n",
    "    #flag_title = td.find('a', {'class':'mw-file-description'})['title']\n",
    "    country = (td.text)\n",
    "    \n",
    "    flag_urls.append(flag_url)\n",
    "    #flag_titles.append(flag_title)\n",
    "    countries.append(country)\n",
    "    \n",
    "    \n",
    "data = {'flag_urls':flag_urls, 'countries':countries}\n",
    "data = pd.DataFrame(data)\n",
    "data['creation_date'] = datetime.now()\n",
    "\n",
    "\n",
    "# Loading\n",
    "\n",
    "con = sqlite3.connect(\"DATA/rugby_team.sqlite\")\n",
    "\n",
    "# Write the new DataFrame to a new SQLite table\n",
    "data.to_sql(\"ODS\", con, if_exists=\"replace\")\n",
    "\n",
    "con.close()"
   ]
  },
  {
   "cell_type": "code",
   "execution_count": null,
   "metadata": {},
   "outputs": [],
   "source": [
    "con = sqlite3.connect(\"DATA/rugby_team.sqlite\")\n",
    "\n",
    "# Load the data into a DataFrame\n",
    "data = pd.read_sql_query(\"SELECT * from ODS\", con)\n",
    "\n",
    "# Select only data for 2002\n",
    "#surveys2002 = surveys_df[surveys_df.year == 2002]\n",
    "\n",
    "con.close()\n",
    "data"
   ]
  },
  {
   "cell_type": "markdown",
   "metadata": {},
   "source": [
    "web_scrapping \n",
    "\n",
    "Créer un ETL qui extrait les informations de fromages : https://www.laboitedufromager.com/liste-des-fromages-par-ordre-alphabetique/\n",
    "\n",
    "Contraintes techniques :\n",
    "- ETL devra être implémenté en classe\n",
    "- Les informations stockées devront l'être dans SQL dans une table ODS\n",
    "- Les colonnes devront être : Le fromage, la famille, la pâte et la date de création.\n",
    "\n",
    "Votre travail sera validé par 10 tests unitaires implémentés par pytest. Le rapport de résultat devra être livré sur github."
   ]
  },
  {
   "cell_type": "code",
   "execution_count": 13,
   "metadata": {},
   "outputs": [
    {
     "name": "stdout",
     "output_type": "stream",
     "text": [
      "{'Abbaye de la Pierre-qui-Vire': {'Fromage': 'Abbaye de la Pierre-qui-Vire', 'Famille': 'Vache', 'Pâte': 'Molle à croûte lavée'}, 'Abondance': {'Fromage': 'Abondance', 'Famille': 'Vache', 'Pâte': 'Pressée cuite'}, 'Angors': {'Fromage': 'Angors', 'Famille': 'Chèvre', 'Pâte': 'Molle à croûte naturelle'}, 'Anneau de Saint Clément': {'Fromage': 'Anneau de Saint Clément', 'Famille': 'Chèvre', 'Pâte': 'Molle à croûte naturelle'}, 'Anneau du Vic-Bilh': {'Fromage': 'Anneau du Vic-Bilh', 'Famille': 'Chèvre', 'Pâte': 'Molle à croûte naturelle'}, 'Appenzeller': {'Fromage': 'Appenzeller', 'Famille': 'Vache', 'Pâte': 'Pressée cuite'}, 'Ariégeois': {'Fromage': 'Ariégeois', 'Famille': 'Vache', 'Pâte': 'Pressée non cuite'}, 'Banon': {'Fromage': 'Banon', 'Famille': 'Chèvre', 'Pâte': 'Molle à croûte naturelle'}, 'Baudaïe Bio': {'Fromage': 'Baudaïe Bio', 'Famille': 'Vache', 'Pâte': 'Molle à croûte lavée'}, 'Beaufort AOP': {'Fromage': 'Beaufort AOP', 'Famille': 'Vache', 'Pâte': 'Pressée cuite'}, 'Béret Savoyard': {'Fromage': 'Béret Savoyard', 'Famille': 'Vache', 'Pâte': 'Pressée non cuite'}, 'Bergues Torchon': {'Fromage': 'Bergues Torchon', 'Famille': 'Vache', 'Pâte': 'Molle à croûte lavée'}, 'Besace Fermière': {'Fromage': 'Besace Fermière', 'Famille': 'Chèvre', 'Pâte': 'Molle à croûte naturelle'}, 'Bethmale': {'Fromage': 'Bethmale', 'Famille': 'Vache', 'Pâte': 'Pressée non cuite'}, 'Bethmale Chèvre': {'Fromage': 'Bethmale Chèvre', 'Famille': 'Chèvre', 'Pâte': 'Pressée non cuite'}, 'Bichonnet': {'Fromage': 'Bichonnet', 'Famille': 'Chèvre', 'Pâte': 'Molle à croûte naturelle'}, 'Bleu d’Auvergne AOP': {'Fromage': 'Bleu d’Auvergne AOP', 'Famille': 'Vache', 'Pâte': 'Persillée'}, 'Bleu de Bonneval': {'Fromage': 'Bleu de Bonneval', 'Famille': 'Vache', 'Pâte': 'Persillée'}, 'Bleu de brebis': {'Fromage': 'Bleu de brebis', 'Famille': 'Brebis', 'Pâte': 'Persillée'}, 'Bleu de chèvre': {'Fromage': 'Bleu de chèvre', 'Famille': 'Chèvre', 'Pâte': 'Persillée'}, 'Bleu de Gex': {'Fromage': 'Bleu de Gex', 'Famille': 'Vache', 'Pâte': 'Persillée'}, 'Bleu de la Chataigneraie': {'Fromage': 'Bleu de la Chataigneraie', 'Famille': 'Vache', 'Pâte': 'Persillée'}, 'Bleu de laqueuille': {'Fromage': 'Bleu de laqueuille', 'Famille': 'Vache', 'Pâte': 'Persillée'}, 'Bleu de Planèze': {'Fromage': 'Bleu de Planèze', 'Famille': 'Vache', 'Pâte': 'Persillée'}, 'Bleu des Bauges': {'Fromage': 'Bleu des Bauges', 'Famille': 'Vache', 'Pâte': 'Persillée'}, 'Bleu des Causses AOP': {'Fromage': 'Bleu des Causses AOP', 'Famille': 'Vache', 'Pâte': 'Persillée'}, 'Bleu du Val d’Aillon': {'Fromage': 'Bleu du Val d’Aillon', 'Famille': 'Vache', 'Pâte': 'Pressée non cuite persillée'}, 'Bleu du Vercors-Sassenage': {'Fromage': 'Bleu du Vercors-Sassenage', 'Famille': 'Vache', 'Pâte': 'Persillée'}, 'Bleu fermier de Haute Savoie': {'Fromage': 'Bleu fermier de Haute Savoie', 'Famille': 'Vache', 'Pâte': 'Persillée'}, 'Bonde de Neufchâtel': {'Fromage': 'Bonde de Neufchâtel', 'Famille': 'Vache', 'Pâte': 'Molle à croûte fleurie'}, 'Boulette d’avesnes': {'Fromage': 'Boulette d’avesnes', 'Famille': 'Vache', 'Pâte': 'Molle à croûte lavée'}, 'Bouquetou du Vernet': {'Fromage': 'Bouquetou du Vernet', 'Famille': 'Chèvre', 'Pâte': 'Molle à croûte naturelle'}, 'Bourrichon': {'Fromage': 'Bourrichon', 'Famille': 'Vache', 'Pâte': 'Molle à croûte fleurie'}, 'Bouton de culotte': {'Fromage': 'Bouton de culotte', 'Famille': 'Chèvre', 'Pâte': 'Molle à croûte naturelle'}, 'Bouyguette de chèvre': {'Fromage': 'Bouyguette de chèvre', 'Famille': 'Chèvre', 'Pâte': 'Molle à croûte naturelle'}, 'Brézain (Raclette fumée)': {'Fromage': 'Brézain (Raclette fumée)', 'Famille': 'Vache', 'Pâte': 'Pressée non cuite, fumée au feu de bois'}, 'Brie de Brebis': {'Fromage': 'Brie de Brebis', 'Famille': 'Brebis', 'Pâte': 'Molle à croûte fleurie'}, 'Brie de Chèvre': {'Fromage': 'Brie de Chèvre', 'Famille': 'Chèvre', 'Pâte': 'Molle à croûte fleurie'}, 'Brie de Meaux AOP': {'Fromage': 'Brie de Meaux AOP', 'Famille': 'Vache', 'Pâte': 'Molle à croûte fleurie'}, 'Brie de Melun AOP': {'Fromage': 'Brie de Melun AOP', 'Famille': 'Vache', 'Pâte': 'Molle à croûte fleurie'}, 'Brie de Nangis': {'Fromage': 'Brie de Nangis', 'Famille': 'Vache', 'Pâte': 'Molle à croûte fleurie'}, 'Brillat-Savarin AOP': {'Fromage': 'Brillat-Savarin AOP', 'Famille': 'Vache', 'Pâte': 'Molle à croûte fleurie'}, 'Brillat-Savarin Truffoné': {'Fromage': 'Brillat-Savarin Truffoné', 'Famille': 'Vache', 'Pâte': 'Molle à croûte fleurie'}, 'Brin d’Amour': {'Fromage': 'Brin d’Amour', 'Famille': 'Brebis', 'Pâte': 'Molle à croûte naturelle'}, 'Brique de Brebis': {'Fromage': 'Brique de Brebis', 'Famille': 'Brebis', 'Pâte': 'Molle à croûte naturelle'}, 'Briquette': {'Fromage': 'Briquette', 'Famille': 'Vache', 'Pâte': 'Molle à croûte fleurie'}, 'Briquette aux épices': {'Fromage': 'Briquette aux épices', 'Famille': 'Chèvre', 'Pâte': 'Molle à croûte naturelle'}, 'Briquette de brebis': {'Fromage': 'Briquette de brebis', 'Famille': 'Brebis', 'Pâte': 'Molle à croûte naturelle'}, 'Briquette de Cocumont': {'Fromage': 'Briquette de Cocumont', 'Famille': 'Chèvre', 'Pâte': 'Molle à croûte naturelle'}, 'Briquette du Cantal': {'Fromage': 'Briquette du Cantal', 'Famille': 'Chèvre', 'Pâte': 'Molle à croûte naturelle'}, 'Briquette du Nord – Domino': {'Fromage': 'Briquette du Nord – Domino', 'Famille': 'Chèvre', 'Pâte': 'Molle à croûte naturelle'}, 'Brousse de Brebis': {'Fromage': 'Brousse de Brebis', 'Famille': 'Brebis', 'Pâte': 'Buchette blanche ou cendrée'}, 'Chèvre': {'Fromage': 'Chèvre', 'Famille': 'Pressée non cuite', 'Pâte': 'Tome du Ségala'}, 'Vache': {'Fromage': 'Vache', 'Famille': 'Tomme au chniu', 'Pâte': 'Vache'}, 'Cœur de chèvre': {'Fromage': 'Cœur de chèvre', 'Famille': 'Chèvre', 'Pâte': 'Cœur de Savoie'}, 'Brebis': {'Fromage': 'Brebis', 'Famille': 'Pressée non cuite', 'Pâte': 'Tomme Ail des ours'}, 'Vache ou Bufflonne': {'Fromage': 'Vache ou Bufflonne', 'Famille': 'Fraîche', 'Pâte': 'Massadel fermier'}, 'Vache Bufflonne': {'Fromage': 'Vache Bufflonne', 'Famille': 'Frais à pâte filée', 'Pâte': 'Munster au cumin'}, 'Vache/Brebis': {'Fromage': 'Vache/Brebis', 'Famille': 'Pressée non cuite', 'Pâte': 'Pardoux'}, 'Pressée non cuite': {'Fromage': 'Pressée non cuite', 'Famille': 'Vacherin Mont d’Or AOP', 'Pâte': 'Vache'}, 'Molle à croûte fleurie': {'Fromage': 'Molle à croûte fleurie', 'Famille': 'Saint-Marcellin', 'Pâte': 'Vache'}, 'Molle à croûte lavée': {'Fromage': 'Molle à croûte lavée', 'Famille': 'Villageois blanc', 'Pâte': 'Chèvre'}, 'Molle à croûte naturelle': {'Fromage': 'Molle à croûte naturelle', 'Famille': 'Vully rouge Suisse', 'Pâte': 'Vache'}, 'Molle à croûte naturelle, non pressée et non cuite': {'Fromage': 'Molle à croûte naturelle, non pressée et non cuite', 'Famille': 'Rocamadour', 'Pâte': 'Chèvre'}, 'Persillée': {'Fromage': 'Persillée', 'Famille': 'Tommette de Chèvre de Savoie', 'Pâte': 'Chèvre'}, 'Frais': {'Fromage': 'Frais', 'Famille': 'Rovethym', 'Pâte': 'Chèvre'}, 'Pressée cuite': {'Fromage': 'Pressée cuite', 'Famille': 'Vieux Lille', 'Pâte': 'Vache'}, 'Saulzais': {'Fromage': 'Saulzais', 'Famille': 'Brebis', 'Pâte': 'Sauvaget'}, 'Selles-sur-Cher': {'Fromage': 'Selles-sur-Cher', 'Famille': 'Chèvre', 'Pâte': 'Molle à croûte fleurie'}, 'Shropshire blue': {'Fromage': 'Shropshire blue', 'Famille': 'Vache', 'Pâte': 'Persillée'}, 'Sillon bleu de Vache': {'Fromage': 'Sillon bleu de Vache', 'Famille': 'Vache', 'Pâte': 'Persillée'}, 'Skieur': {'Fromage': 'Skieur', 'Famille': 'Vache', 'Pâte': 'Pressée cuite'}, 'Soumaintrain': {'Fromage': 'Soumaintrain', 'Famille': 'Vache', 'Pâte': 'Molle à croûte lavée'}, 'Souréliette': {'Fromage': 'Souréliette', 'Famille': 'Brebis', 'Pâte': 'Pressée non cuite'}, 'Stilton bleu': {'Fromage': 'Stilton bleu', 'Famille': 'Vache', 'Pâte': 'Persillée'}, 'Taleggio': {'Fromage': 'Taleggio', 'Famille': 'Vache', 'Pâte': 'Molle à croûte lavée'}, 'Taupinière': {'Fromage': 'Taupinière', 'Famille': 'Chèvre', 'Pâte': 'tête de Moine'}}\n"
     ]
    }
   ],
   "source": [
    "\"\"\"...\"\"\"\n",
    "from urllib.request import urlopen # pylint: disable=unused-import\n",
    "from datetime import datetime # pylint: disable=unused-import\n",
    "import sqlite3 # pylint: disable=unused-import\n",
    "import pytest # pylint: disable=unused-import\n",
    "from bs4 import BeautifulSoup # pylint: disable=unused-import\n",
    "import pandas as pd # pylint: disable=unused-import\n",
    "\n",
    "\n",
    "data = urlopen('https://www.laboitedufromager.com/liste-des-fromages-par-ordre-alphabetique/')\n",
    "data = data.read()\n",
    "soup = BeautifulSoup(data)\n",
    "tds = soup.find_all('td')\n",
    "fromage_data = {}\n",
    "current_fromage = None\n",
    "current_category = None\n",
    "\n",
    "\n",
    "for td in tds:\n",
    "    # Exclure les <td> vides ou ceux contenant \"Famille\", \"Fromage\", \"Pâte\" ou balises <strong>\n",
    "    if (\n",
    "        td.text.strip() != \"\" \n",
    "        and \"Famille\" not in td.text \n",
    "        and \"Fromage\" not in td.text \n",
    "        and \"Pâte\" not in td.text\n",
    "        and not td.find_all('strong')\n",
    "    ):\n",
    "            text = td.text.strip()\n",
    "        \n",
    "            if current_fromage is None:\n",
    "                current_fromage = text\n",
    "            elif current_category is None:\n",
    "                current_category = text\n",
    "            else:\n",
    "                # Stocker la paire de trois dans le dictionnaire\n",
    "                fromage_data[current_fromage] = {'Fromage': current_fromage, 'Famille': current_category, 'Pâte': text}\n",
    "                current_fromage = None\n",
    "                current_category = None\n",
    "\n",
    "print(fromage_data)"
   ]
  }
 ],
 "metadata": {
  "kernelspec": {
   "display_name": "Python 3",
   "language": "python",
   "name": "python3"
  },
  "language_info": {
   "codemirror_mode": {
    "name": "ipython",
    "version": 3
   },
   "file_extension": ".py",
   "mimetype": "text/x-python",
   "name": "python",
   "nbconvert_exporter": "python",
   "pygments_lexer": "ipython3",
   "version": "3.12.1"
  }
 },
 "nbformat": 4,
 "nbformat_minor": 2
}
